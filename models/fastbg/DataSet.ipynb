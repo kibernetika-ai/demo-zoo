{
 "cells": [
  {
   "cell_type": "code",
   "execution_count": null,
   "metadata": {},
   "outputs": [],
   "source": [
    "import numpy as np\n",
    "import os\n",
    "import json\n",
    "import cv2\n",
    "from mlboardclient.api import client\n",
    "import os"
   ]
  },
  {
   "cell_type": "code",
   "execution_count": null,
   "metadata": {},
   "outputs": [],
   "source": [
    "src_dir = os.environ['CODE_DIR']+'/coco'\n",
    "src_dir"
   ]
  },
  {
   "cell_type": "code",
   "execution_count": null,
   "metadata": {},
   "outputs": [],
   "source": [
    "with open(src_dir + '/annotations/instances_train2017.json') as f:\n",
    "    data = json.load(f)"
   ]
  },
  {
   "cell_type": "code",
   "execution_count": null,
   "metadata": {},
   "outputs": [],
   "source": [
    "data = data['annotations']"
   ]
  },
  {
   "cell_type": "code",
   "execution_count": null,
   "metadata": {},
   "outputs": [],
   "source": [
    "len(data)"
   ]
  },
  {
   "cell_type": "code",
   "execution_count": null,
   "metadata": {},
   "outputs": [],
   "source": [
    "train_dir = os.environ['TRAINING_DIR']+'/data_tmp'\n",
    "train_dir"
   ]
  },
  {
   "cell_type": "code",
   "execution_count": null,
   "metadata": {},
   "outputs": [],
   "source": [
    "import shutil"
   ]
  },
  {
   "cell_type": "code",
   "execution_count": null,
   "metadata": {},
   "outputs": [],
   "source": [
    "shutil.rmtree(train_dir,True)"
   ]
  },
  {
   "cell_type": "code",
   "execution_count": null,
   "metadata": {},
   "outputs": [],
   "source": [
    "os.mkdir(train_dir)"
   ]
  },
  {
   "cell_type": "code",
   "execution_count": null,
   "metadata": {},
   "outputs": [],
   "source": [
    "images_dir = train_dir+'/images'\n",
    "mask_dir = train_dir+'/masks'"
   ]
  },
  {
   "cell_type": "code",
   "execution_count": null,
   "metadata": {},
   "outputs": [],
   "source": [
    "os.mkdir(images_dir)\n",
    "os.mkdir(mask_dir)"
   ]
  },
  {
   "cell_type": "code",
   "execution_count": null,
   "metadata": {},
   "outputs": [],
   "source": [
    "limit_pictures = int(os.environ.get('LIMIT_PIC',10))\n",
    "f'Number pictures: {limit_pictures}'"
   ]
  },
  {
   "cell_type": "code",
   "execution_count": null,
   "metadata": {},
   "outputs": [],
   "source": [
    "i = 0\n",
    "count = len(data)\n",
    "if limit_pictures<0:\n",
    "    limit_pictures = len(data)\n",
    "for a in data:\n",
    "    if i>=limit_pictures:\n",
    "        break\n",
    "    if a['category_id'] == 1 and a['iscrowd'] == 0:\n",
    "        name = '{:012d}.jpg'.format(a['image_id'])\n",
    "        fname = src_dir + '/train2017/{}'.format(name)\n",
    "        segmentation = a['segmentation']\n",
    "        if len(segmentation) < 4 and len(segmentation)>0:\n",
    "            area = a['area']\n",
    "            if os.path.exists(fname):\n",
    "                img = cv2.imread(fname, cv2.IMREAD_COLOR)\n",
    "                img_area = img.shape[0]*img.shape[1]\n",
    "                if area>img_area*0.1:\n",
    "                    m = np.zeros((img.shape[0], img.shape[1]), np.uint8)\n",
    "                    cv2.imwrite(images_dir+'/'+name,img)\n",
    "                    for s in segmentation:\n",
    "                        p = np.array(s, np.int32)\n",
    "                        p = np.reshape(p, (1, int(p.shape[0] / 2), 2))\n",
    "                        m = cv2.fillPoly(m, p, color=(255, 255, 255))\n",
    "                    mask_file = mask_dir+'/'+name\n",
    "                    if os.path.exists(mask_file):\n",
    "                        pm = cv2.imread(mask_file)\n",
    "                        if len(pm.shape)>2:\n",
    "                            pm = pm[:,:,0]\n",
    "                        m = np.maximum(m,pm)\n",
    "                    cv2.imwrite(mask_file,m)\n",
    "                    if i%1000==0:\n",
    "                        print(f'Proccesing: {i} of {count}')\n",
    "                    i+=1"
   ]
  },
  {
   "cell_type": "code",
   "execution_count": null,
   "metadata": {},
   "outputs": [],
   "source": [
    "import glob"
   ]
  },
  {
   "cell_type": "code",
   "execution_count": null,
   "metadata": {},
   "outputs": [],
   "source": [
    "files = list(glob.glob(images_dir+'/*.jpg'))\n"
   ]
  },
  {
   "cell_type": "code",
   "execution_count": null,
   "metadata": {},
   "outputs": [],
   "source": [
    "import random\n"
   ]
  },
  {
   "cell_type": "code",
   "execution_count": null,
   "metadata": {},
   "outputs": [],
   "source": [
    "files = random.sample(files, k=4)"
   ]
  },
  {
   "cell_type": "code",
   "execution_count": null,
   "metadata": {},
   "outputs": [],
   "source": [
    "import PIL.Image\n",
    "import matplotlib.pyplot as plt\n",
    "for f in files:\n",
    "    print(f)\n",
    "    name = os.path.basename(f)\n",
    "    mask = mask_dir+'/'+name\n",
    "    img = cv2.imread(f)\n",
    "    mask = cv2.imread(mask)\n",
    "    img[mask<255]=0\n",
    "    img = PIL.Image.fromarray(img[:,:,::-1])\n",
    "    plt.imshow(img)\n",
    "    plt.show()"
   ]
  },
  {
   "cell_type": "code",
   "execution_count": null,
   "metadata": {},
   "outputs": [],
   "source": [
    "client.update_task_info({'num-files': i})"
   ]
  },
  {
   "cell_type": "code",
   "execution_count": null,
   "metadata": {},
   "outputs": [],
   "source": [
    "m = client.Client()"
   ]
  },
  {
   "cell_type": "code",
   "execution_count": null,
   "metadata": {},
   "outputs": [],
   "source": [
    "workspace = os.environ.get('WORKSPACE_NAME')"
   ]
  },
  {
   "cell_type": "code",
   "execution_count": null,
   "metadata": {},
   "outputs": [],
   "source": [
    "name = 'people-mask'\n",
    "build = int(os.environ.get('BUILD_ID',0))\n",
    "version = f'1.0.{build}'\n",
    "m.datasets.push(workspace,name,version,train_dir,type='dataset',create=True)\n",
    "reference = '#/{}/catalog/dataset/{}/versions/{}'.format(workspace, name, version)\n",
    "if build>0:\n",
    "    client.update_task_info({'data_reference':reference})"
   ]
  }
 ],
 "metadata": {
  "kernelspec": {
   "display_name": "Python 3",
   "language": "python",
   "name": "python3"
  },
  "language_info": {
   "codemirror_mode": {
    "name": "ipython",
    "version": 3
   },
   "file_extension": ".py",
   "mimetype": "text/x-python",
   "name": "python",
   "nbconvert_exporter": "python",
   "pygments_lexer": "ipython3",
   "version": "3.6.9"
  }
 },
 "nbformat": 4,
 "nbformat_minor": 4
}
